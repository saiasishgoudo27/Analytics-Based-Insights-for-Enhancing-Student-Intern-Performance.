{
  "nbformat": 4,
  "nbformat_minor": 0,
  "metadata": {
    "colab": {
      "provenance": []
    },
    "kernelspec": {
      "name": "python3",
      "display_name": "Python 3"
    },
    "language_info": {
      "name": "python"
    }
  },
  "cells": [
    {
      "cell_type": "markdown",
      "source": [
        "#**MODERATE QUESTIONS : (ATTEMPT ANY 8) (10-18 Questions)**"
      ],
      "metadata": {
        "id": "e-1j206yBpMb"
      }
    },
    {
      "cell_type": "code",
      "execution_count": null,
      "metadata": {
        "id": "EZsRj1ajtnMu"
      },
      "outputs": [],
      "source": [
        "import pandas as pd\n",
        "import numpy as np\n",
        "import matplotlib.pyplot as plt\n",
        "import seaborn as sns"
      ]
    },
    {
      "cell_type": "code",
      "source": [
        "df1 = pd.read_excel(\"/content/Data analyst Data.xlsx\")\n",
        "df1.tail()"
      ],
      "metadata": {
        "colab": {
          "base_uri": "https://localhost:8080/",
          "height": 608
        },
        "id": "nza9A163uHsT",
        "outputId": "68181dc7-7b8a-48a0-b4d5-7ac9eeeffef6"
      },
      "execution_count": null,
      "outputs": [
        {
          "output_type": "execute_result",
          "data": {
            "text/plain": [
              "        First Name              Email ID  Quantity  \\\n",
              "4889   Patel Niraj    patelniraj@xyz.com         1   \n",
              "4890         VIDIT         vidit@xyz.com         1   \n",
              "4891  Suryaprakash  suryaprakash@xyz.com         1   \n",
              "4892      Saif ali       saifali@xyz.com         1   \n",
              "4893       Lankesh       lankesh@xyz.com         1   \n",
              "\n",
              "                                 Events Attendee Status  \\\n",
              "4889   The SDLC & their transformations       Attending   \n",
              "4890  Data Visualization using Power BI       Attending   \n",
              "4891  Data Visualization using Power BI       Attending   \n",
              "4892  Data Visualization using Power BI       Attending   \n",
              "4893  Data Visualization using Power BI       Attending   \n",
              "\n",
              "                                           College Name  \\\n",
              "4889  thakur institute of management studies, career...   \n",
              "4890                 government polytechnic gandhinagar   \n",
              "4891          vishwakarma institute of technology, pune   \n",
              "4892                 mit academy of engineering ,alandi   \n",
              "4893                 a. c. patil college of engineering   \n",
              "\n",
              "     How did you come to know about this event?  \\\n",
              "4889                LinkedIn | Whatsapp | Email   \n",
              "4890                                        NaN   \n",
              "4891                                        NaN   \n",
              "4892                                        NaN   \n",
              "4893                                        NaN   \n",
              "\n",
              "     Specify in \"Others\" (how did you come to know about this event)  \\\n",
              "4889                                                NaN                \n",
              "4890                                                NaN                \n",
              "4891                                                NaN                \n",
              "4892                                                NaN                \n",
              "4893                                                NaN                \n",
              "\n",
              "     Designation  Year of Graduation     City  CGPA  \\\n",
              "4889    Students                2024  Jodhpur   6.9   \n",
              "4890    Students                2023  Jalgaon   6.5   \n",
              "4891    Students                2024    Thane   6.9   \n",
              "4892    Students                2024  Patiala   9.0   \n",
              "4893    Students                2025  Sangrur   7.2   \n",
              "\n",
              "      Experience with python (Months) Family Income  Expected salary (Lac)  \\\n",
              "4889                                6      0-2 Lakh                     15   \n",
              "4890                                6      0-2 Lakh                      8   \n",
              "4891                                5      0-2 Lakh                      7   \n",
              "4892                                3      0-2 Lakh                     23   \n",
              "4893                                8      0-2 Lakh                      9   \n",
              "\n",
              "     Leadership- skills  \n",
              "4889                yes  \n",
              "4890                 no  \n",
              "4891                 no  \n",
              "4892                yes  \n",
              "4893                yes  "
            ],
            "text/html": [
              "\n",
              "  <div id=\"df-709268fe-f601-4aa9-af74-1921c60f0f66\" class=\"colab-df-container\">\n",
              "    <div>\n",
              "<style scoped>\n",
              "    .dataframe tbody tr th:only-of-type {\n",
              "        vertical-align: middle;\n",
              "    }\n",
              "\n",
              "    .dataframe tbody tr th {\n",
              "        vertical-align: top;\n",
              "    }\n",
              "\n",
              "    .dataframe thead th {\n",
              "        text-align: right;\n",
              "    }\n",
              "</style>\n",
              "<table border=\"1\" class=\"dataframe\">\n",
              "  <thead>\n",
              "    <tr style=\"text-align: right;\">\n",
              "      <th></th>\n",
              "      <th>First Name</th>\n",
              "      <th>Email ID</th>\n",
              "      <th>Quantity</th>\n",
              "      <th>Events</th>\n",
              "      <th>Attendee Status</th>\n",
              "      <th>College Name</th>\n",
              "      <th>How did you come to know about this event?</th>\n",
              "      <th>Specify in \"Others\" (how did you come to know about this event)</th>\n",
              "      <th>Designation</th>\n",
              "      <th>Year of Graduation</th>\n",
              "      <th>City</th>\n",
              "      <th>CGPA</th>\n",
              "      <th>Experience with python (Months)</th>\n",
              "      <th>Family Income</th>\n",
              "      <th>Expected salary (Lac)</th>\n",
              "      <th>Leadership- skills</th>\n",
              "    </tr>\n",
              "  </thead>\n",
              "  <tbody>\n",
              "    <tr>\n",
              "      <th>4889</th>\n",
              "      <td>Patel Niraj</td>\n",
              "      <td>patelniraj@xyz.com</td>\n",
              "      <td>1</td>\n",
              "      <td>The SDLC &amp; their transformations</td>\n",
              "      <td>Attending</td>\n",
              "      <td>thakur institute of management studies, career...</td>\n",
              "      <td>LinkedIn | Whatsapp | Email</td>\n",
              "      <td>NaN</td>\n",
              "      <td>Students</td>\n",
              "      <td>2024</td>\n",
              "      <td>Jodhpur</td>\n",
              "      <td>6.9</td>\n",
              "      <td>6</td>\n",
              "      <td>0-2 Lakh</td>\n",
              "      <td>15</td>\n",
              "      <td>yes</td>\n",
              "    </tr>\n",
              "    <tr>\n",
              "      <th>4890</th>\n",
              "      <td>VIDIT</td>\n",
              "      <td>vidit@xyz.com</td>\n",
              "      <td>1</td>\n",
              "      <td>Data Visualization using Power BI</td>\n",
              "      <td>Attending</td>\n",
              "      <td>government polytechnic gandhinagar</td>\n",
              "      <td>NaN</td>\n",
              "      <td>NaN</td>\n",
              "      <td>Students</td>\n",
              "      <td>2023</td>\n",
              "      <td>Jalgaon</td>\n",
              "      <td>6.5</td>\n",
              "      <td>6</td>\n",
              "      <td>0-2 Lakh</td>\n",
              "      <td>8</td>\n",
              "      <td>no</td>\n",
              "    </tr>\n",
              "    <tr>\n",
              "      <th>4891</th>\n",
              "      <td>Suryaprakash</td>\n",
              "      <td>suryaprakash@xyz.com</td>\n",
              "      <td>1</td>\n",
              "      <td>Data Visualization using Power BI</td>\n",
              "      <td>Attending</td>\n",
              "      <td>vishwakarma institute of technology, pune</td>\n",
              "      <td>NaN</td>\n",
              "      <td>NaN</td>\n",
              "      <td>Students</td>\n",
              "      <td>2024</td>\n",
              "      <td>Thane</td>\n",
              "      <td>6.9</td>\n",
              "      <td>5</td>\n",
              "      <td>0-2 Lakh</td>\n",
              "      <td>7</td>\n",
              "      <td>no</td>\n",
              "    </tr>\n",
              "    <tr>\n",
              "      <th>4892</th>\n",
              "      <td>Saif ali</td>\n",
              "      <td>saifali@xyz.com</td>\n",
              "      <td>1</td>\n",
              "      <td>Data Visualization using Power BI</td>\n",
              "      <td>Attending</td>\n",
              "      <td>mit academy of engineering ,alandi</td>\n",
              "      <td>NaN</td>\n",
              "      <td>NaN</td>\n",
              "      <td>Students</td>\n",
              "      <td>2024</td>\n",
              "      <td>Patiala</td>\n",
              "      <td>9.0</td>\n",
              "      <td>3</td>\n",
              "      <td>0-2 Lakh</td>\n",
              "      <td>23</td>\n",
              "      <td>yes</td>\n",
              "    </tr>\n",
              "    <tr>\n",
              "      <th>4893</th>\n",
              "      <td>Lankesh</td>\n",
              "      <td>lankesh@xyz.com</td>\n",
              "      <td>1</td>\n",
              "      <td>Data Visualization using Power BI</td>\n",
              "      <td>Attending</td>\n",
              "      <td>a. c. patil college of engineering</td>\n",
              "      <td>NaN</td>\n",
              "      <td>NaN</td>\n",
              "      <td>Students</td>\n",
              "      <td>2025</td>\n",
              "      <td>Sangrur</td>\n",
              "      <td>7.2</td>\n",
              "      <td>8</td>\n",
              "      <td>0-2 Lakh</td>\n",
              "      <td>9</td>\n",
              "      <td>yes</td>\n",
              "    </tr>\n",
              "  </tbody>\n",
              "</table>\n",
              "</div>\n",
              "    <div class=\"colab-df-buttons\">\n",
              "\n",
              "  <div class=\"colab-df-container\">\n",
              "    <button class=\"colab-df-convert\" onclick=\"convertToInteractive('df-709268fe-f601-4aa9-af74-1921c60f0f66')\"\n",
              "            title=\"Convert this dataframe to an interactive table.\"\n",
              "            style=\"display:none;\">\n",
              "\n",
              "  <svg xmlns=\"http://www.w3.org/2000/svg\" height=\"24px\" viewBox=\"0 -960 960 960\">\n",
              "    <path d=\"M120-120v-720h720v720H120Zm60-500h600v-160H180v160Zm220 220h160v-160H400v160Zm0 220h160v-160H400v160ZM180-400h160v-160H180v160Zm440 0h160v-160H620v160ZM180-180h160v-160H180v160Zm440 0h160v-160H620v160Z\"/>\n",
              "  </svg>\n",
              "    </button>\n",
              "\n",
              "  <style>\n",
              "    .colab-df-container {\n",
              "      display:flex;\n",
              "      gap: 12px;\n",
              "    }\n",
              "\n",
              "    .colab-df-convert {\n",
              "      background-color: #E8F0FE;\n",
              "      border: none;\n",
              "      border-radius: 50%;\n",
              "      cursor: pointer;\n",
              "      display: none;\n",
              "      fill: #1967D2;\n",
              "      height: 32px;\n",
              "      padding: 0 0 0 0;\n",
              "      width: 32px;\n",
              "    }\n",
              "\n",
              "    .colab-df-convert:hover {\n",
              "      background-color: #E2EBFA;\n",
              "      box-shadow: 0px 1px 2px rgba(60, 64, 67, 0.3), 0px 1px 3px 1px rgba(60, 64, 67, 0.15);\n",
              "      fill: #174EA6;\n",
              "    }\n",
              "\n",
              "    .colab-df-buttons div {\n",
              "      margin-bottom: 4px;\n",
              "    }\n",
              "\n",
              "    [theme=dark] .colab-df-convert {\n",
              "      background-color: #3B4455;\n",
              "      fill: #D2E3FC;\n",
              "    }\n",
              "\n",
              "    [theme=dark] .colab-df-convert:hover {\n",
              "      background-color: #434B5C;\n",
              "      box-shadow: 0px 1px 3px 1px rgba(0, 0, 0, 0.15);\n",
              "      filter: drop-shadow(0px 1px 2px rgba(0, 0, 0, 0.3));\n",
              "      fill: #FFFFFF;\n",
              "    }\n",
              "  </style>\n",
              "\n",
              "    <script>\n",
              "      const buttonEl =\n",
              "        document.querySelector('#df-709268fe-f601-4aa9-af74-1921c60f0f66 button.colab-df-convert');\n",
              "      buttonEl.style.display =\n",
              "        google.colab.kernel.accessAllowed ? 'block' : 'none';\n",
              "\n",
              "      async function convertToInteractive(key) {\n",
              "        const element = document.querySelector('#df-709268fe-f601-4aa9-af74-1921c60f0f66');\n",
              "        const dataTable =\n",
              "          await google.colab.kernel.invokeFunction('convertToInteractive',\n",
              "                                                    [key], {});\n",
              "        if (!dataTable) return;\n",
              "\n",
              "        const docLinkHtml = 'Like what you see? Visit the ' +\n",
              "          '<a target=\"_blank\" href=https://colab.research.google.com/notebooks/data_table.ipynb>data table notebook</a>'\n",
              "          + ' to learn more about interactive tables.';\n",
              "        element.innerHTML = '';\n",
              "        dataTable['output_type'] = 'display_data';\n",
              "        await google.colab.output.renderOutput(dataTable, element);\n",
              "        const docLink = document.createElement('div');\n",
              "        docLink.innerHTML = docLinkHtml;\n",
              "        element.appendChild(docLink);\n",
              "      }\n",
              "    </script>\n",
              "  </div>\n",
              "\n",
              "\n",
              "<div id=\"df-045858bb-a0b1-45c1-bd3f-3a5067e85a36\">\n",
              "  <button class=\"colab-df-quickchart\" onclick=\"quickchart('df-045858bb-a0b1-45c1-bd3f-3a5067e85a36')\"\n",
              "            title=\"Suggest charts\"\n",
              "            style=\"display:none;\">\n",
              "\n",
              "<svg xmlns=\"http://www.w3.org/2000/svg\" height=\"24px\"viewBox=\"0 0 24 24\"\n",
              "     width=\"24px\">\n",
              "    <g>\n",
              "        <path d=\"M19 3H5c-1.1 0-2 .9-2 2v14c0 1.1.9 2 2 2h14c1.1 0 2-.9 2-2V5c0-1.1-.9-2-2-2zM9 17H7v-7h2v7zm4 0h-2V7h2v10zm4 0h-2v-4h2v4z\"/>\n",
              "    </g>\n",
              "</svg>\n",
              "  </button>\n",
              "\n",
              "<style>\n",
              "  .colab-df-quickchart {\n",
              "      --bg-color: #E8F0FE;\n",
              "      --fill-color: #1967D2;\n",
              "      --hover-bg-color: #E2EBFA;\n",
              "      --hover-fill-color: #174EA6;\n",
              "      --disabled-fill-color: #AAA;\n",
              "      --disabled-bg-color: #DDD;\n",
              "  }\n",
              "\n",
              "  [theme=dark] .colab-df-quickchart {\n",
              "      --bg-color: #3B4455;\n",
              "      --fill-color: #D2E3FC;\n",
              "      --hover-bg-color: #434B5C;\n",
              "      --hover-fill-color: #FFFFFF;\n",
              "      --disabled-bg-color: #3B4455;\n",
              "      --disabled-fill-color: #666;\n",
              "  }\n",
              "\n",
              "  .colab-df-quickchart {\n",
              "    background-color: var(--bg-color);\n",
              "    border: none;\n",
              "    border-radius: 50%;\n",
              "    cursor: pointer;\n",
              "    display: none;\n",
              "    fill: var(--fill-color);\n",
              "    height: 32px;\n",
              "    padding: 0;\n",
              "    width: 32px;\n",
              "  }\n",
              "\n",
              "  .colab-df-quickchart:hover {\n",
              "    background-color: var(--hover-bg-color);\n",
              "    box-shadow: 0 1px 2px rgba(60, 64, 67, 0.3), 0 1px 3px 1px rgba(60, 64, 67, 0.15);\n",
              "    fill: var(--button-hover-fill-color);\n",
              "  }\n",
              "\n",
              "  .colab-df-quickchart-complete:disabled,\n",
              "  .colab-df-quickchart-complete:disabled:hover {\n",
              "    background-color: var(--disabled-bg-color);\n",
              "    fill: var(--disabled-fill-color);\n",
              "    box-shadow: none;\n",
              "  }\n",
              "\n",
              "  .colab-df-spinner {\n",
              "    border: 2px solid var(--fill-color);\n",
              "    border-color: transparent;\n",
              "    border-bottom-color: var(--fill-color);\n",
              "    animation:\n",
              "      spin 1s steps(1) infinite;\n",
              "  }\n",
              "\n",
              "  @keyframes spin {\n",
              "    0% {\n",
              "      border-color: transparent;\n",
              "      border-bottom-color: var(--fill-color);\n",
              "      border-left-color: var(--fill-color);\n",
              "    }\n",
              "    20% {\n",
              "      border-color: transparent;\n",
              "      border-left-color: var(--fill-color);\n",
              "      border-top-color: var(--fill-color);\n",
              "    }\n",
              "    30% {\n",
              "      border-color: transparent;\n",
              "      border-left-color: var(--fill-color);\n",
              "      border-top-color: var(--fill-color);\n",
              "      border-right-color: var(--fill-color);\n",
              "    }\n",
              "    40% {\n",
              "      border-color: transparent;\n",
              "      border-right-color: var(--fill-color);\n",
              "      border-top-color: var(--fill-color);\n",
              "    }\n",
              "    60% {\n",
              "      border-color: transparent;\n",
              "      border-right-color: var(--fill-color);\n",
              "    }\n",
              "    80% {\n",
              "      border-color: transparent;\n",
              "      border-right-color: var(--fill-color);\n",
              "      border-bottom-color: var(--fill-color);\n",
              "    }\n",
              "    90% {\n",
              "      border-color: transparent;\n",
              "      border-bottom-color: var(--fill-color);\n",
              "    }\n",
              "  }\n",
              "</style>\n",
              "\n",
              "  <script>\n",
              "    async function quickchart(key) {\n",
              "      const quickchartButtonEl =\n",
              "        document.querySelector('#' + key + ' button');\n",
              "      quickchartButtonEl.disabled = true;  // To prevent multiple clicks.\n",
              "      quickchartButtonEl.classList.add('colab-df-spinner');\n",
              "      try {\n",
              "        const charts = await google.colab.kernel.invokeFunction(\n",
              "            'suggestCharts', [key], {});\n",
              "      } catch (error) {\n",
              "        console.error('Error during call to suggestCharts:', error);\n",
              "      }\n",
              "      quickchartButtonEl.classList.remove('colab-df-spinner');\n",
              "      quickchartButtonEl.classList.add('colab-df-quickchart-complete');\n",
              "    }\n",
              "    (() => {\n",
              "      let quickchartButtonEl =\n",
              "        document.querySelector('#df-045858bb-a0b1-45c1-bd3f-3a5067e85a36 button');\n",
              "      quickchartButtonEl.style.display =\n",
              "        google.colab.kernel.accessAllowed ? 'block' : 'none';\n",
              "    })();\n",
              "  </script>\n",
              "</div>\n",
              "\n",
              "    </div>\n",
              "  </div>\n"
            ],
            "application/vnd.google.colaboratory.intrinsic+json": {
              "type": "dataframe",
              "repr_error": "0"
            }
          },
          "metadata": {},
          "execution_count": 23
        }
      ]
    },
    {
      "cell_type": "code",
      "source": [
        "df1.columns"
      ],
      "metadata": {
        "colab": {
          "base_uri": "https://localhost:8080/"
        },
        "id": "bKqs2Yr_uO-U",
        "outputId": "e933f79b-3f5c-4272-a84e-105d23782b3f"
      },
      "execution_count": null,
      "outputs": [
        {
          "output_type": "execute_result",
          "data": {
            "text/plain": [
              "Index(['First Name', 'Email ID', 'Quantity', 'Events', 'Attendee Status',\n",
              "       'College Name', 'How did you come to know about this event?',\n",
              "       'Specify in \"Others\" (how did you come to know about this event)',\n",
              "       'Designation', 'Year of Graduation', 'City', 'CGPA',\n",
              "       'Experience with python (Months)', 'Family Income',\n",
              "       'Expected salary (Lac)', 'Leadership- skills'],\n",
              "      dtype='object')"
            ]
          },
          "metadata": {},
          "execution_count": 24
        }
      ]
    },
    {
      "cell_type": "markdown",
      "source": [
        "#**11. How does the excepted salary vary based on factors like CGPA , Family Income , Experience in Python.?**"
      ],
      "metadata": {
        "id": "_ujZWQA12Z9z"
      }
    },
    {
      "cell_type": "code",
      "source": [
        "plt.title(\"Excepted Salary Vary based on Family Income\")\n",
        "plt.xlabel(\"Salary\")\n",
        "plt.ylabel(\"Family Income\")\n",
        "plt.scatter(df1[\"Expected salary (Lac)\"],df1[\"Family Income\"])\n",
        "plt.grid(True)\n",
        "plt.show()"
      ],
      "metadata": {
        "colab": {
          "base_uri": "https://localhost:8080/",
          "height": 472
        },
        "id": "1eW2QIuuvuta",
        "outputId": "5fe2b96f-0f55-4218-df06-6236f53670e9"
      },
      "execution_count": null,
      "outputs": [
        {
          "output_type": "display_data",
          "data": {
            "text/plain": [
              "<Figure size 640x480 with 1 Axes>"
            ],
            "image/png": "[encoded data removed]"
          },
          "metadata": {}
        }
      ]
    },
    {
      "cell_type": "code",
      "source": [
        "plt.title(\"Excepted Salary Vary based on Experience with python (Months)\")\n",
        "plt.xlabel(\"Salary\")\n",
        "plt.ylabel(\"Experience in python\")\n",
        "plt.scatter(df1[\"Expected salary (Lac)\"],df1[\"Experience with python (Months)\"])\n",
        "plt.grid(True)\n",
        "plt.show()"
      ],
      "metadata": {
        "colab": {
          "base_uri": "https://localhost:8080/",
          "height": 429
        },
        "id": "En80YdfuxN5V",
        "outputId": "9d1e5d89-84b6-4c7a-a2e3-14fd573ffbe5"
      },
      "execution_count": null,
      "outputs": [
        {
          "output_type": "display_data",
          "data": {
            "text/plain": [
              "<Figure size 640x480 with 1 Axes>"
            ],
            "image/png": "[encoded data removed]"
          },
          "metadata": {}
        }
      ]
    },
    {
      "cell_type": "code",
      "source": [
        "plt.title(\"Excepted Salary Vary based on CGPA\")\n",
        "plt.xlabel(\"Salary\")\n",
        "plt.ylabel(\"CGPA\")\n",
        "plt.bar(df1[\"Expected salary (Lac)\"],df1[\"CGPA\"])\n",
        "plt.grid(True)\n",
        "plt.show()"
      ],
      "metadata": {
        "colab": {
          "base_uri": "https://localhost:8080/",
          "height": 438
        },
        "id": "FY_cSV-hubc9",
        "outputId": "ad684227-8a66-4472-a64c-cb6fe4249593"
      },
      "execution_count": null,
      "outputs": [
        {
          "output_type": "display_data",
          "data": {
            "text/plain": [
              "<Figure size 640x480 with 1 Axes>"
            ],
            "image/png": "[encoded data removed]"
          },
          "metadata": {}
        }
      ]
    },
    {
      "cell_type": "markdown",
      "source": [
        "#**Observations :**\n",
        "#**1. Those with a family income ranging between 5-7 lakhs can expect a highest salary of 35 lakhs.**\n",
        "#**2. Most of those whose experience in Python is more than 5 out of 10 can expect a salary of more than 25 lakhs..**\n",
        "#**3. The salary does not depend on CGPA, as the salary does not vary much regardless of whether the CGPA is high or low..**\n",
        "\n",
        "** ---------------------------------------------------------------------**"
      ],
      "metadata": {
        "id": "4S9JRBgLy_3n"
      }
    },
    {
      "cell_type": "markdown",
      "source": [
        "#**12. Which event tend to attract more students from specific fields of study.?**"
      ],
      "metadata": {
        "id": "fgv4twUuFhtt"
      }
    },
    {
      "cell_type": "code",
      "source": [
        "df1[\"Events\"].value_counts()"
      ],
      "metadata": {
        "colab": {
          "base_uri": "https://localhost:8080/"
        },
        "id": "Yz9JyQwIFakL",
        "outputId": "e25f8d2e-98c2-451e-ef70-06f31f73602d"
      },
      "execution_count": null,
      "outputs": [
        {
          "output_type": "execute_result",
          "data": {
            "text/plain": [
              "Events\n",
              "Product Design & Full Stack                    842\n",
              "Internship Program(IP) Success Conclave        797\n",
              "Art of Resume Building                         478\n",
              "Data Visualization using Power BI              455\n",
              "Talk on Skill and Employability Enhancement    379\n",
              "Skill and Employability Enhancement            318\n",
              "IS DATA SCIENCE FOR YOU?                       306\n",
              "Hello ML and DL                                262\n",
              "KYC - Know Your CCPC                           205\n",
              "IAC - Q&A                                      146\n",
              "The SDLC & their transformations               142\n",
              "Artificial Intelligence                        125\n",
              "The Agile Ways of Working                      121\n",
              "RPA: A Boon or A Bane                          114\n",
              "Product Marketing                              112\n",
              "Transformation with DevOps: The Easy Way        92\n",
              "Name: count, dtype: int64"
            ]
          },
          "metadata": {},
          "execution_count": 28
        }
      ]
    },
    {
      "cell_type": "markdown",
      "source": [
        "#**Product Design & Full Stack Event Attract more Students.**"
      ],
      "metadata": {
        "id": "lRXgupyWF__L"
      }
    },
    {
      "cell_type": "markdown",
      "source": [
        "#**13. Do Students in Leadership positions during their college years tend to have higher CGPA'S or better expected salary.?**"
      ],
      "metadata": {
        "id": "KCPPkUfEyLA4"
      }
    },
    {
      "cell_type": "code",
      "source": [
        "df1[\"Leadership- skills\"].unique()"
      ],
      "metadata": {
        "id": "jyLT7K7f3N5b",
        "colab": {
          "base_uri": "https://localhost:8080/"
        },
        "outputId": "2a1621b0-49b1-4dcf-826a-a591142182b8"
      },
      "execution_count": null,
      "outputs": [
        {
          "output_type": "execute_result",
          "data": {
            "text/plain": [
              "array(['yes', 'no', 'no '], dtype=object)"
            ]
          },
          "metadata": {},
          "execution_count": 29
        }
      ]
    },
    {
      "cell_type": "code",
      "source": [
        "mean=df1[\"Expected salary (Lac)\"].mean()\n",
        "print(mean)\n",
        "leaderships = df1[df1[\"Leadership- skills\"]=='yes']\n",
        "skills = leaderships[(leaderships[\"CGPA\"]==9.9) | (leaderships[\"Expected salary (Lac)\"]>mean)]\n",
        "print(skills[\"Expected salary (Lac)\"].value_counts() , skills[\"CGPA\"].value_counts())"
      ],
      "metadata": {
        "colab": {
          "base_uri": "https://localhost:8080/"
        },
        "id": "Ot9_uf1yy4EO",
        "outputId": "38cf999c-b18c-4306-9744-46c172f3e8e0"
      },
      "execution_count": null,
      "outputs": [
        {
          "output_type": "stream",
          "name": "stdout",
          "text": [
            "13.935635472006538\n",
            "Expected salary (Lac)\n",
            "21    143\n",
            "19    102\n",
            "17     87\n",
            "20     76\n",
            "15     57\n",
            "18     55\n",
            "25     49\n",
            "24     39\n",
            "23     38\n",
            "16     30\n",
            "30     21\n",
            "14     20\n",
            "22     17\n",
            "29      7\n",
            "26      5\n",
            "9       4\n",
            "28      4\n",
            "27      3\n",
            "8       3\n",
            "5       2\n",
            "7       2\n",
            "13      1\n",
            "32      1\n",
            "10      1\n",
            "6       1\n",
            "11      1\n",
            "Name: count, dtype: int64 CGPA\n",
            "9.1    55\n",
            "9.5    47\n",
            "9.9    41\n",
            "9.2    41\n",
            "7.3    41\n",
            "7.9    35\n",
            "7.6    35\n",
            "9.3    31\n",
            "8.5    30\n",
            "6.7    29\n",
            "8.7    28\n",
            "8.3    27\n",
            "7.2    27\n",
            "6.5    26\n",
            "7.1    24\n",
            "9.6    23\n",
            "7.8    18\n",
            "6.6    18\n",
            "6.9    18\n",
            "9.4    17\n",
            "9.7    17\n",
            "7.7    17\n",
            "7.5    17\n",
            "8.1    14\n",
            "7.4    14\n",
            "8.9    13\n",
            "8.0     9\n",
            "8.4     9\n",
            "6.8     9\n",
            "8.6     8\n",
            "9.8     7\n",
            "8.8     6\n",
            "9.0     6\n",
            "6.4     5\n",
            "8.2     3\n",
            "6.3     2\n",
            "6.2     2\n",
            "Name: count, dtype: int64\n"
          ]
        }
      ]
    },
    {
      "cell_type": "markdown",
      "source": [
        "#**Observation : Students who demonstrate leadership skills during their college years , most of them have a higher expected salary (greater than 13.93), even if they do not have a high CGPA (9.9).**"
      ],
      "metadata": {
        "id": "PV8vXqwY40g3"
      }
    },
    {
      "cell_type": "markdown",
      "source": [
        "#**14. How Many Students are graduating by the end of 2024.?**"
      ],
      "metadata": {
        "id": "khBGITcJ44OH"
      }
    },
    {
      "cell_type": "code",
      "source": [
        "df1[df1[\"Year of Graduation\"]==2024].shape[0]"
      ],
      "metadata": {
        "colab": {
          "base_uri": "https://localhost:8080/"
        },
        "id": "q88KJIH7yZjS",
        "outputId": "3f3cbb17-02ac-4245-e585-96dae417d87e"
      },
      "execution_count": null,
      "outputs": [
        {
          "output_type": "execute_result",
          "data": {
            "text/plain": [
              "1511"
            ]
          },
          "metadata": {},
          "execution_count": 31
        }
      ]
    },
    {
      "cell_type": "markdown",
      "source": [
        "#**15. Which Promotion channel brings in more student participations for the event.?**"
      ],
      "metadata": {
        "id": "BiCiWO4r69G1"
      }
    },
    {
      "cell_type": "code",
      "source": [
        "df1[\"How did you come to know about this event?\"].value_counts()"
      ],
      "metadata": {
        "colab": {
          "base_uri": "https://localhost:8080/"
        },
        "id": "kzpo46Od5k9Z",
        "outputId": "aa8b1951-1188-4f4f-f1d3-b9966a5bfda8"
      },
      "execution_count": null,
      "outputs": [
        {
          "output_type": "execute_result",
          "data": {
            "text/plain": [
              "How did you come to know about this event?\n",
              "Whatsapp                                                                                       1067\n",
              "Email                                                                                           438\n",
              "SPOC/ College Professor                                                                         326\n",
              "Others                                                                                          153\n",
              "Cloud Counselage Website                                                                        129\n",
              "                                                                                               ... \n",
              "Youtube | Instagram | Whatsapp | Email                                                            1\n",
              "LinkedIn | Email | Telegram                                                                       1\n",
              "Youtube | Email | Others                                                                          1\n",
              "Youtube | Facebook | Instagram | LinkedIn | Whatsapp | Email | Telegram | Friend/ Classmate       1\n",
              "Youtube | Whatsapp | Cloud Counselage Website                                                     1\n",
              "Name: count, Length: 99, dtype: int64"
            ]
          },
          "metadata": {},
          "execution_count": 32
        }
      ]
    },
    {
      "cell_type": "markdown",
      "source": [
        "#**Observation : If we observe, the most effective promotion channel is \"WHATSAPP\", which brings the most student participation for the event**"
      ],
      "metadata": {
        "id": "gM5IaFlU6KPy"
      }
    },
    {
      "cell_type": "markdown",
      "source": [
        "#**16. Find the total number of students who attended the events related to datascience (FROM ALL DATA SCIENCE RELATED COURSES )**"
      ],
      "metadata": {
        "id": "lcamBDS78CYp"
      }
    },
    {
      "cell_type": "code",
      "source": [
        "df1[\"Events\"].unique()"
      ],
      "metadata": {
        "colab": {
          "base_uri": "https://localhost:8080/"
        },
        "id": "44wsCUMy5226",
        "outputId": "1f950579-e5fc-4a84-e666-0b8a47dbfa9b"
      },
      "execution_count": null,
      "outputs": [
        {
          "output_type": "execute_result",
          "data": {
            "text/plain": [
              "array(['Art of Resume Building', 'Data Visualization using Power BI',\n",
              "       'Artificial Intelligence', 'Hello ML and DL', 'Product Marketing',\n",
              "       'IAC - Q&A', 'Internship Program(IP) Success Conclave',\n",
              "       'IS DATA SCIENCE FOR YOU?', 'KYC - Know Your CCPC',\n",
              "       'Product Design & Full Stack', 'RPA: A Boon or A Bane',\n",
              "       'Skill and Employability Enhancement',\n",
              "       'Talk on Skill and Employability Enhancement',\n",
              "       'The Agile Ways of Working', 'The SDLC & their transformations',\n",
              "       'Transformation with DevOps: The Easy Way'], dtype=object)"
            ]
          },
          "metadata": {},
          "execution_count": 33
        }
      ]
    },
    {
      "cell_type": "code",
      "source": [
        "events = ['IS DATA SCIENCE FOR YOU?', 'Hello ML and DL', 'Artificial Intelligence', 'Data Visualization using Power BI']\n",
        "df1[df1[\"Events\"].isin(events)].shape[0]"
      ],
      "metadata": {
        "colab": {
          "base_uri": "https://localhost:8080/"
        },
        "id": "Qa5uj74t7iRL",
        "outputId": "9cec65a6-31f8-42c2-e897-3d0d07bf60a8"
      },
      "execution_count": null,
      "outputs": [
        {
          "output_type": "execute_result",
          "data": {
            "text/plain": [
              "1148"
            ]
          },
          "metadata": {},
          "execution_count": 34
        }
      ]
    },
    {
      "cell_type": "code",
      "source": [],
      "metadata": {
        "id": "A-WWoxE8-E5D"
      },
      "execution_count": null,
      "outputs": []
    },
    {
      "cell_type": "markdown",
      "source": [
        "#**17. Those who have high CGPA and More Experience in language those who had high expectations for Salary.?(Avg)**"
      ],
      "metadata": {
        "id": "Ofvzzh7yAQKo"
      }
    },
    {
      "cell_type": "code",
      "source": [
        "df1[(df1[\"CGPA\"]== 9.9) & (df1[\"Experience with python (Months)\"]==8)][\"Expected salary (Lac)\"].mean()\n"
      ],
      "metadata": {
        "colab": {
          "base_uri": "https://localhost:8080/"
        },
        "id": "NdkqJ3FKrtO4",
        "outputId": "dbdddb9d-46b2-4975-a428-93991234e330"
      },
      "execution_count": null,
      "outputs": [
        {
          "output_type": "execute_result",
          "data": {
            "text/plain": [
              "20.3"
            ]
          },
          "metadata": {},
          "execution_count": 35
        }
      ]
    },
    {
      "cell_type": "markdown",
      "source": [
        "#**18. How Many students know about the event from their colleges? Which of these Top 5 colleges.?**"
      ],
      "metadata": {
        "id": "j5AuXS2Yqtnm"
      }
    },
    {
      "cell_type": "code",
      "source": [
        "column_name = 'Specify in \\\"Others\\\" (how did you come to know about this event)'\n",
        "df1[column_name].unique()"
      ],
      "metadata": {
        "colab": {
          "base_uri": "https://localhost:8080/"
        },
        "id": "M7JlxBdLB7i6",
        "outputId": "d118d9fb-155d-4b5f-e791-0f077640cc44"
      },
      "execution_count": null,
      "outputs": [
        {
          "output_type": "execute_result",
          "data": {
            "text/plain": [
              "array([nan, 'College', 'Friends', 'Interested', 'Attend', 'Telegram',\n",
              "       'Team entity', 'You tube', 'Twitter ', 'Yuva Sena/Shiv Sena',\n",
              "       'Institute', 'From Academy'], dtype=object)"
            ]
          },
          "metadata": {},
          "execution_count": 36
        }
      ]
    },
    {
      "cell_type": "code",
      "source": [
        "df1[df1[column_name]=='College'].head()"
      ],
      "metadata": {
        "colab": {
          "base_uri": "https://localhost:8080/",
          "height": 556
        },
        "id": "KtF3nKNQqJHf",
        "outputId": "731a5f8b-73dc-4e14-c53a-e5c31fe6ea48"
      },
      "execution_count": null,
      "outputs": [
        {
          "output_type": "execute_result",
          "data": {
            "text/plain": [
              "   First Name           Email ID  Quantity                  Events  \\\n",
              "1   Dhanshree  dhanshree@xyz.com         1  Art of Resume Building   \n",
              "8    Mayuresh   mayuresh@xyz.com         1  Art of Resume Building   \n",
              "18   Shubham     shubham@xyz.com         1  Art of Resume Building   \n",
              "20    Shivani    shivani@xyz.com         1  Art of Resume Building   \n",
              "27  Dhanshree  dhanshree@xyz.com         1  Art of Resume Building   \n",
              "\n",
              "   Attendee Status                                       College Name  \\\n",
              "1        Attending                   AP SHAH INSTITUTE OF TECHNOLOGY    \n",
              "8        Attending                 GOVERNMENT POLYTECHNIC GANDHINAGAR   \n",
              "18       Attending                                    Wilson college    \n",
              "20       Attending  DKTE Society's Textile And Engineering Institu...   \n",
              "27       Attending           Pillai College of Engineering New Panvel   \n",
              "\n",
              "   How did you come to know about this event?  \\\n",
              "1                                      Others   \n",
              "8                                      Others   \n",
              "18                                     Others   \n",
              "20                                     Others   \n",
              "27                          Whatsapp | Others   \n",
              "\n",
              "   Specify in \"Others\" (how did you come to know about this event)  \\\n",
              "1                                             College                \n",
              "8                                             College                \n",
              "18                                            College                \n",
              "20                                            College                \n",
              "27                                            College                \n",
              "\n",
              "   Designation  Year of Graduation         City  CGPA  \\\n",
              "1     Students                2024     Amravati   8.2   \n",
              "8     Students                2024       Tezpur   8.6   \n",
              "18    Students                2024       Munger   9.1   \n",
              "20    Students                2023  Muzaffarpur   9.5   \n",
              "27    Students                2025          Diu   8.9   \n",
              "\n",
              "    Experience with python (Months) Family Income  Expected salary (Lac)  \\\n",
              "1                                 3      0-2 Lakh                      7   \n",
              "8                                 4      0-2 Lakh                      7   \n",
              "18                                7      0-2 Lakh                     21   \n",
              "20                                5      0-2 Lakh                     13   \n",
              "27                                3      2-5 Lakh                      9   \n",
              "\n",
              "   Leadership- skills  \n",
              "1                  no  \n",
              "8                  no  \n",
              "18                yes  \n",
              "20                 no  \n",
              "27                yes  "
            ],
            "text/html": [
              "\n",
              "  <div id=\"df-00679e19-da1f-457d-8792-a1f684b05892\" class=\"colab-df-container\">\n",
              "    <div>\n",
              "<style scoped>\n",
              "    .dataframe tbody tr th:only-of-type {\n",
              "        vertical-align: middle;\n",
              "    }\n",
              "\n",
              "    .dataframe tbody tr th {\n",
              "        vertical-align: top;\n",
              "    }\n",
              "\n",
              "    .dataframe thead th {\n",
              "        text-align: right;\n",
              "    }\n",
              "</style>\n",
              "<table border=\"1\" class=\"dataframe\">\n",
              "  <thead>\n",
              "    <tr style=\"text-align: right;\">\n",
              "      <th></th>\n",
              "      <th>First Name</th>\n",
              "      <th>Email ID</th>\n",
              "      <th>Quantity</th>\n",
              "      <th>Events</th>\n",
              "      <th>Attendee Status</th>\n",
              "      <th>College Name</th>\n",
              "      <th>How did you come to know about this event?</th>\n",
              "      <th>Specify in \"Others\" (how did you come to know about this event)</th>\n",
              "      <th>Designation</th>\n",
              "      <th>Year of Graduation</th>\n",
              "      <th>City</th>\n",
              "      <th>CGPA</th>\n",
              "      <th>Experience with python (Months)</th>\n",
              "      <th>Family Income</th>\n",
              "      <th>Expected salary (Lac)</th>\n",
              "      <th>Leadership- skills</th>\n",
              "    </tr>\n",
              "  </thead>\n",
              "  <tbody>\n",
              "    <tr>\n",
              "      <th>1</th>\n",
              "      <td>Dhanshree</td>\n",
              "      <td>dhanshree@xyz.com</td>\n",
              "      <td>1</td>\n",
              "      <td>Art of Resume Building</td>\n",
              "      <td>Attending</td>\n",
              "      <td>AP SHAH INSTITUTE OF TECHNOLOGY</td>\n",
              "      <td>Others</td>\n",
              "      <td>College</td>\n",
              "      <td>Students</td>\n",
              "      <td>2024</td>\n",
              "      <td>Amravati</td>\n",
              "      <td>8.2</td>\n",
              "      <td>3</td>\n",
              "      <td>0-2 Lakh</td>\n",
              "      <td>7</td>\n",
              "      <td>no</td>\n",
              "    </tr>\n",
              "    <tr>\n",
              "      <th>8</th>\n",
              "      <td>Mayuresh</td>\n",
              "      <td>mayuresh@xyz.com</td>\n",
              "      <td>1</td>\n",
              "      <td>Art of Resume Building</td>\n",
              "      <td>Attending</td>\n",
              "      <td>GOVERNMENT POLYTECHNIC GANDHINAGAR</td>\n",
              "      <td>Others</td>\n",
              "      <td>College</td>\n",
              "      <td>Students</td>\n",
              "      <td>2024</td>\n",
              "      <td>Tezpur</td>\n",
              "      <td>8.6</td>\n",
              "      <td>4</td>\n",
              "      <td>0-2 Lakh</td>\n",
              "      <td>7</td>\n",
              "      <td>no</td>\n",
              "    </tr>\n",
              "    <tr>\n",
              "      <th>18</th>\n",
              "      <td>Shubham</td>\n",
              "      <td>shubham@xyz.com</td>\n",
              "      <td>1</td>\n",
              "      <td>Art of Resume Building</td>\n",
              "      <td>Attending</td>\n",
              "      <td>Wilson college</td>\n",
              "      <td>Others</td>\n",
              "      <td>College</td>\n",
              "      <td>Students</td>\n",
              "      <td>2024</td>\n",
              "      <td>Munger</td>\n",
              "      <td>9.1</td>\n",
              "      <td>7</td>\n",
              "      <td>0-2 Lakh</td>\n",
              "      <td>21</td>\n",
              "      <td>yes</td>\n",
              "    </tr>\n",
              "    <tr>\n",
              "      <th>20</th>\n",
              "      <td>Shivani</td>\n",
              "      <td>shivani@xyz.com</td>\n",
              "      <td>1</td>\n",
              "      <td>Art of Resume Building</td>\n",
              "      <td>Attending</td>\n",
              "      <td>DKTE Society's Textile And Engineering Institu...</td>\n",
              "      <td>Others</td>\n",
              "      <td>College</td>\n",
              "      <td>Students</td>\n",
              "      <td>2023</td>\n",
              "      <td>Muzaffarpur</td>\n",
              "      <td>9.5</td>\n",
              "      <td>5</td>\n",
              "      <td>0-2 Lakh</td>\n",
              "      <td>13</td>\n",
              "      <td>no</td>\n",
              "    </tr>\n",
              "    <tr>\n",
              "      <th>27</th>\n",
              "      <td>Dhanshree</td>\n",
              "      <td>dhanshree@xyz.com</td>\n",
              "      <td>1</td>\n",
              "      <td>Art of Resume Building</td>\n",
              "      <td>Attending</td>\n",
              "      <td>Pillai College of Engineering New Panvel</td>\n",
              "      <td>Whatsapp | Others</td>\n",
              "      <td>College</td>\n",
              "      <td>Students</td>\n",
              "      <td>2025</td>\n",
              "      <td>Diu</td>\n",
              "      <td>8.9</td>\n",
              "      <td>3</td>\n",
              "      <td>2-5 Lakh</td>\n",
              "      <td>9</td>\n",
              "      <td>yes</td>\n",
              "    </tr>\n",
              "  </tbody>\n",
              "</table>\n",
              "</div>\n",
              "    <div class=\"colab-df-buttons\">\n",
              "\n",
              "  <div class=\"colab-df-container\">\n",
              "    <button class=\"colab-df-convert\" onclick=\"convertToInteractive('df-00679e19-da1f-457d-8792-a1f684b05892')\"\n",
              "            title=\"Convert this dataframe to an interactive table.\"\n",
              "            style=\"display:none;\">\n",
              "\n",
              "  <svg xmlns=\"http://www.w3.org/2000/svg\" height=\"24px\" viewBox=\"0 -960 960 960\">\n",
              "    <path d=\"M120-120v-720h720v720H120Zm60-500h600v-160H180v160Zm220 220h160v-160H400v160Zm0 220h160v-160H400v160ZM180-400h160v-160H180v160Zm440 0h160v-160H620v160ZM180-180h160v-160H180v160Zm440 0h160v-160H620v160Z\"/>\n",
              "  </svg>\n",
              "    </button>\n",
              "\n",
              "  <style>\n",
              "    .colab-df-container {\n",
              "      display:flex;\n",
              "      gap: 12px;\n",
              "    }\n",
              "\n",
              "    .colab-df-convert {\n",
              "      background-color: #E8F0FE;\n",
              "      border: none;\n",
              "      border-radius: 50%;\n",
              "      cursor: pointer;\n",
              "      display: none;\n",
              "      fill: #1967D2;\n",
              "      height: 32px;\n",
              "      padding: 0 0 0 0;\n",
              "      width: 32px;\n",
              "    }\n",
              "\n",
              "    .colab-df-convert:hover {\n",
              "      background-color: #E2EBFA;\n",
              "      box-shadow: 0px 1px 2px rgba(60, 64, 67, 0.3), 0px 1px 3px 1px rgba(60, 64, 67, 0.15);\n",
              "      fill: #174EA6;\n",
              "    }\n",
              "\n",
              "    .colab-df-buttons div {\n",
              "      margin-bottom: 4px;\n",
              "    }\n",
              "\n",
              "    [theme=dark] .colab-df-convert {\n",
              "      background-color: #3B4455;\n",
              "      fill: #D2E3FC;\n",
              "    }\n",
              "\n",
              "    [theme=dark] .colab-df-convert:hover {\n",
              "      background-color: #434B5C;\n",
              "      box-shadow: 0px 1px 3px 1px rgba(0, 0, 0, 0.15);\n",
              "      filter: drop-shadow(0px 1px 2px rgba(0, 0, 0, 0.3));\n",
              "      fill: #FFFFFF;\n",
              "    }\n",
              "  </style>\n",
              "\n",
              "    <script>\n",
              "      const buttonEl =\n",
              "        document.querySelector('#df-00679e19-da1f-457d-8792-a1f684b05892 button.colab-df-convert');\n",
              "      buttonEl.style.display =\n",
              "        google.colab.kernel.accessAllowed ? 'block' : 'none';\n",
              "\n",
              "      async function convertToInteractive(key) {\n",
              "        const element = document.querySelector('#df-00679e19-da1f-457d-8792-a1f684b05892');\n",
              "        const dataTable =\n",
              "          await google.colab.kernel.invokeFunction('convertToInteractive',\n",
              "                                                    [key], {});\n",
              "        if (!dataTable) return;\n",
              "\n",
              "        const docLinkHtml = 'Like what you see? Visit the ' +\n",
              "          '<a target=\"_blank\" href=https://colab.research.google.com/notebooks/data_table.ipynb>data table notebook</a>'\n",
              "          + ' to learn more about interactive tables.';\n",
              "        element.innerHTML = '';\n",
              "        dataTable['output_type'] = 'display_data';\n",
              "        await google.colab.output.renderOutput(dataTable, element);\n",
              "        const docLink = document.createElement('div');\n",
              "        docLink.innerHTML = docLinkHtml;\n",
              "        element.appendChild(docLink);\n",
              "      }\n",
              "    </script>\n",
              "  </div>\n",
              "\n",
              "\n",
              "<div id=\"df-646cc15f-befc-40e4-b5d0-9cbbe67d3508\">\n",
              "  <button class=\"colab-df-quickchart\" onclick=\"quickchart('df-646cc15f-befc-40e4-b5d0-9cbbe67d3508')\"\n",
              "            title=\"Suggest charts\"\n",
              "            style=\"display:none;\">\n",
              "\n",
              "<svg xmlns=\"http://www.w3.org/2000/svg\" height=\"24px\"viewBox=\"0 0 24 24\"\n",
              "     width=\"24px\">\n",
              "    <g>\n",
              "        <path d=\"M19 3H5c-1.1 0-2 .9-2 2v14c0 1.1.9 2 2 2h14c1.1 0 2-.9 2-2V5c0-1.1-.9-2-2-2zM9 17H7v-7h2v7zm4 0h-2V7h2v10zm4 0h-2v-4h2v4z\"/>\n",
              "    </g>\n",
              "</svg>\n",
              "  </button>\n",
              "\n",
              "<style>\n",
              "  .colab-df-quickchart {\n",
              "      --bg-color: #E8F0FE;\n",
              "      --fill-color: #1967D2;\n",
              "      --hover-bg-color: #E2EBFA;\n",
              "      --hover-fill-color: #174EA6;\n",
              "      --disabled-fill-color: #AAA;\n",
              "      --disabled-bg-color: #DDD;\n",
              "  }\n",
              "\n",
              "  [theme=dark] .colab-df-quickchart {\n",
              "      --bg-color: #3B4455;\n",
              "      --fill-color: #D2E3FC;\n",
              "      --hover-bg-color: #434B5C;\n",
              "      --hover-fill-color: #FFFFFF;\n",
              "      --disabled-bg-color: #3B4455;\n",
              "      --disabled-fill-color: #666;\n",
              "  }\n",
              "\n",
              "  .colab-df-quickchart {\n",
              "    background-color: var(--bg-color);\n",
              "    border: none;\n",
              "    border-radius: 50%;\n",
              "    cursor: pointer;\n",
              "    display: none;\n",
              "    fill: var(--fill-color);\n",
              "    height: 32px;\n",
              "    padding: 0;\n",
              "    width: 32px;\n",
              "  }\n",
              "\n",
              "  .colab-df-quickchart:hover {\n",
              "    background-color: var(--hover-bg-color);\n",
              "    box-shadow: 0 1px 2px rgba(60, 64, 67, 0.3), 0 1px 3px 1px rgba(60, 64, 67, 0.15);\n",
              "    fill: var(--button-hover-fill-color);\n",
              "  }\n",
              "\n",
              "  .colab-df-quickchart-complete:disabled,\n",
              "  .colab-df-quickchart-complete:disabled:hover {\n",
              "    background-color: var(--disabled-bg-color);\n",
              "    fill: var(--disabled-fill-color);\n",
              "    box-shadow: none;\n",
              "  }\n",
              "\n",
              "  .colab-df-spinner {\n",
              "    border: 2px solid var(--fill-color);\n",
              "    border-color: transparent;\n",
              "    border-bottom-color: var(--fill-color);\n",
              "    animation:\n",
              "      spin 1s steps(1) infinite;\n",
              "  }\n",
              "\n",
              "  @keyframes spin {\n",
              "    0% {\n",
              "      border-color: transparent;\n",
              "      border-bottom-color: var(--fill-color);\n",
              "      border-left-color: var(--fill-color);\n",
              "    }\n",
              "    20% {\n",
              "      border-color: transparent;\n",
              "      border-left-color: var(--fill-color);\n",
              "      border-top-color: var(--fill-color);\n",
              "    }\n",
              "    30% {\n",
              "      border-color: transparent;\n",
              "      border-left-color: var(--fill-color);\n",
              "      border-top-color: var(--fill-color);\n",
              "      border-right-color: var(--fill-color);\n",
              "    }\n",
              "    40% {\n",
              "      border-color: transparent;\n",
              "      border-right-color: var(--fill-color);\n",
              "      border-top-color: var(--fill-color);\n",
              "    }\n",
              "    60% {\n",
              "      border-color: transparent;\n",
              "      border-right-color: var(--fill-color);\n",
              "    }\n",
              "    80% {\n",
              "      border-color: transparent;\n",
              "      border-right-color: var(--fill-color);\n",
              "      border-bottom-color: var(--fill-color);\n",
              "    }\n",
              "    90% {\n",
              "      border-color: transparent;\n",
              "      border-bottom-color: var(--fill-color);\n",
              "    }\n",
              "  }\n",
              "</style>\n",
              "\n",
              "  <script>\n",
              "    async function quickchart(key) {\n",
              "      const quickchartButtonEl =\n",
              "        document.querySelector('#' + key + ' button');\n",
              "      quickchartButtonEl.disabled = true;  // To prevent multiple clicks.\n",
              "      quickchartButtonEl.classList.add('colab-df-spinner');\n",
              "      try {\n",
              "        const charts = await google.colab.kernel.invokeFunction(\n",
              "            'suggestCharts', [key], {});\n",
              "      } catch (error) {\n",
              "        console.error('Error during call to suggestCharts:', error);\n",
              "      }\n",
              "      quickchartButtonEl.classList.remove('colab-df-spinner');\n",
              "      quickchartButtonEl.classList.add('colab-df-quickchart-complete');\n",
              "    }\n",
              "    (() => {\n",
              "      let quickchartButtonEl =\n",
              "        document.querySelector('#df-646cc15f-befc-40e4-b5d0-9cbbe67d3508 button');\n",
              "      quickchartButtonEl.style.display =\n",
              "        google.colab.kernel.accessAllowed ? 'block' : 'none';\n",
              "    })();\n",
              "  </script>\n",
              "</div>\n",
              "\n",
              "    </div>\n",
              "  </div>\n"
            ],
            "application/vnd.google.colaboratory.intrinsic+json": {
              "type": "dataframe",
              "summary": "{\n  \"name\": \"df1[df1[column_name]=='College']\",\n  \"rows\": 5,\n  \"fields\": [\n    {\n      \"column\": \"First Name\",\n      \"properties\": {\n        \"dtype\": \"string\",\n        \"num_unique_values\": 4,\n        \"samples\": [\n          \"Mayuresh\",\n          \"Shivani\",\n          \"Dhanshree\"\n        ],\n        \"semantic_type\": \"\",\n        \"description\": \"\"\n      }\n    },\n    {\n      \"column\": \"Email ID\",\n      \"properties\": {\n        \"dtype\": \"string\",\n        \"num_unique_values\": 4,\n        \"samples\": [\n          \"mayuresh@xyz.com\",\n          \"shivani@xyz.com\",\n          \"dhanshree@xyz.com\"\n        ],\n        \"semantic_type\": \"\",\n        \"description\": \"\"\n      }\n    },\n    {\n      \"column\": \"Quantity\",\n      \"properties\": {\n        \"dtype\": \"number\",\n        \"std\": 0,\n        \"min\": 1,\n        \"max\": 1,\n        \"num_unique_values\": 1,\n        \"samples\": [\n          1\n        ],\n        \"semantic_type\": \"\",\n        \"description\": \"\"\n      }\n    },\n    {\n      \"column\": \"Events\",\n      \"properties\": {\n        \"dtype\": \"category\",\n        \"num_unique_values\": 1,\n        \"samples\": [\n          \"Art of Resume Building\"\n        ],\n        \"semantic_type\": \"\",\n        \"description\": \"\"\n      }\n    },\n    {\n      \"column\": \"Attendee Status\",\n      \"properties\": {\n        \"dtype\": \"category\",\n        \"num_unique_values\": 1,\n        \"samples\": [\n          \"Attending\"\n        ],\n        \"semantic_type\": \"\",\n        \"description\": \"\"\n      }\n    },\n    {\n      \"column\": \"College Name\",\n      \"properties\": {\n        \"dtype\": \"string\",\n        \"num_unique_values\": 5,\n        \"samples\": [\n          \"GOVERNMENT POLYTECHNIC GANDHINAGAR\"\n        ],\n        \"semantic_type\": \"\",\n        \"description\": \"\"\n      }\n    },\n    {\n      \"column\": \"How did you come to know about this event?\",\n      \"properties\": {\n        \"dtype\": \"category\",\n        \"num_unique_values\": 2,\n        \"samples\": [\n          \"Whatsapp | Others\"\n        ],\n        \"semantic_type\": \"\",\n        \"description\": \"\"\n      }\n    },\n    {\n      \"column\": \"Specify in \\\"Others\\\" (how did you come to know about this event)\",\n      \"properties\": {\n        \"dtype\": \"category\",\n        \"num_unique_values\": 1,\n        \"samples\": [\n          \"College\"\n        ],\n        \"semantic_type\": \"\",\n        \"description\": \"\"\n      }\n    },\n    {\n      \"column\": \"Designation\",\n      \"properties\": {\n        \"dtype\": \"category\",\n        \"num_unique_values\": 1,\n        \"samples\": [\n          \"Students\"\n        ],\n        \"semantic_type\": \"\",\n        \"description\": \"\"\n      }\n    },\n    {\n      \"column\": \"Year of Graduation\",\n      \"properties\": {\n        \"dtype\": \"number\",\n        \"std\": 0,\n        \"min\": 2023,\n        \"max\": 2025,\n        \"num_unique_values\": 3,\n        \"samples\": [\n          2024\n        ],\n        \"semantic_type\": \"\",\n        \"description\": \"\"\n      }\n    },\n    {\n      \"column\": \"City\",\n      \"properties\": {\n        \"dtype\": \"string\",\n        \"num_unique_values\": 5,\n        \"samples\": [\n          \"Tezpur\"\n        ],\n        \"semantic_type\": \"\",\n        \"description\": \"\"\n      }\n    },\n    {\n      \"column\": \"CGPA\",\n      \"properties\": {\n        \"dtype\": \"number\",\n        \"std\": 0.49295030175464977,\n        \"min\": 8.2,\n        \"max\": 9.5,\n        \"num_unique_values\": 5,\n        \"samples\": [\n          8.6\n        ],\n        \"semantic_type\": \"\",\n        \"description\": \"\"\n      }\n    },\n    {\n      \"column\": \"Experience with python (Months)\",\n      \"properties\": {\n        \"dtype\": \"number\",\n        \"std\": 1,\n        \"min\": 3,\n        \"max\": 7,\n        \"num_unique_values\": 4,\n        \"samples\": [\n          4\n        ],\n        \"semantic_type\": \"\",\n        \"description\": \"\"\n      }\n    },\n    {\n      \"column\": \"Family Income\",\n      \"properties\": {\n        \"dtype\": \"category\",\n        \"num_unique_values\": 2,\n        \"samples\": [\n          \"2-5 Lakh\"\n        ],\n        \"semantic_type\": \"\",\n        \"description\": \"\"\n      }\n    },\n    {\n      \"column\": \"Expected salary (Lac)\",\n      \"properties\": {\n        \"dtype\": \"number\",\n        \"std\": 5,\n        \"min\": 7,\n        \"max\": 21,\n        \"num_unique_values\": 4,\n        \"samples\": [\n          21\n        ],\n        \"semantic_type\": \"\",\n        \"description\": \"\"\n      }\n    },\n    {\n      \"column\": \"Leadership- skills\",\n      \"properties\": {\n        \"dtype\": \"category\",\n        \"num_unique_values\": 2,\n        \"samples\": [\n          \"yes\"\n        ],\n        \"semantic_type\": \"\",\n        \"description\": \"\"\n      }\n    }\n  ]\n}"
            }
          },
          "metadata": {},
          "execution_count": 37
        }
      ]
    },
    {
      "cell_type": "code",
      "source": [],
      "metadata": {
        "id": "4sb3UC87E9U2"
      },
      "execution_count": null,
      "outputs": []
    },
    {
      "cell_type": "code",
      "source": [],
      "metadata": {
        "id": "nsFV2Oq8D-3E"
      },
      "execution_count": null,
      "outputs": []
    },
    {
      "cell_type": "code",
      "source": [],
      "metadata": {
        "id": "JbT4366AD-6c"
      },
      "execution_count": null,
      "outputs": []
    },
    {
      "cell_type": "code",
      "source": [],
      "metadata": {
        "id": "s1Hw-9jCD-_q"
      },
      "execution_count": null,
      "outputs": []
    }
  ]
}